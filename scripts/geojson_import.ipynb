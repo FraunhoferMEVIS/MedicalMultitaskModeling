{
    "cells": [
        {
            "cell_type": "code",
            "execution_count": null,
            "metadata": {},
            "outputs": [],
            "source": [
                "import logging\n",
                "import sys\n",
                "logging.basicConfig(stream=sys.stdout, level=logging.INFO)\n",
                "\n",
                "import os\n",
                "import random\n",
                "import json\n",
                "import numpy as np\n",
                "import torch\n",
                "from pathlib import Path\n",
                "import imageio.v3 as imageio\n",
                "from PIL import Image\n",
                "from minio import Minio\n",
                "import torchvision.transforms.functional as F\n",
                "\n",
                "from mmm.data_loading.geojson.GeoAnno import GeoAnno\n",
                "from mmm.data_loading.geojson.utils import rasterize_annotations\n",
                "from mmm.data_loading.geojson.WSIGeojsonDataset import WSIGeojsonDataset\n",
                "from mmm.data_loading.s3 import get_args, get_kwargs, upload_img\n",
                "from mmm.labelstudio_ext.utils import binary_mask_to_result\n",
                "from mmm.labelstudio_ext.projects import LSProject, Client\n",
                "from mmm.labelstudio_ext.LabelstudioCredentials import LabelstudioCredentials"
            ]
        },
        {
            "cell_type": "markdown",
            "metadata": {},
            "source": [
                "# Importing data with GeoJSON labels\n",
                "\n",
                "geojson_paths should be a map from geojson annotations to an associated image file"
            ]
        },
        {
            "cell_type": "code",
            "execution_count": null,
            "metadata": {},
            "outputs": [],
            "source": [
                "datadir = Path(\"/data/jnm_data/v1/\")\n",
                "BUCKETNAME, UPLOAD_PREFIX, LS_PROJECTNAME = \"dataroot\", \"jnm_data3\", \"jnquanti2\"\n",
                "mclient = Minio(*get_args(), **get_kwargs())\n",
                "ls_client = LabelstudioCredentials(url=\"http://localhost:9505\", token=\"1234567890\").build_client()\n",
                "trainval_proj = LSProject(LSProject.Config(name=LS_PROJECTNAME), ls_client)\n",
                "mclient.bucket_exists(BUCKETNAME)\n",
                "geojson_paths = {p: p.parent/f\"{p.stem}.tif\" for p in datadir.glob(\"*.geojson\")}\n",
                "\n",
                "def process_mask(mask: np.ndarray):\n",
                "    # Crop 68 pixels from the bottom\n",
                "    mask = mask[:-68]\n",
                "    # Resize to 224x224\n",
                "    mask = F.resize(torch.from_numpy(mask).unsqueeze(0), (224, 224))[0].numpy()\n",
                "    return mask\n",
                "\n",
                "def process_image(img: Image) -> Image:\n",
                "    # Crop 68 pixels from the bottom\n",
                "    img = img.crop((0, 0, img.width, img.height-68))\n",
                "    # Resize to 224x224\n",
                "    img_tensor = F.resize(F.to_tensor(img), (224, 224))\n",
                "    return F.to_pil_image(img_tensor)"
            ]
        },
        {
            "cell_type": "code",
            "execution_count": null,
            "metadata": {},
            "outputs": [],
            "source": [
                "ds = WSIGeojsonDataset(WSIGeojsonDataset.Config(), geojson_paths)\n",
                "CLASS_NAMES = ds.get_classes()\n",
                "\n",
                "def results_from_geojson(annos: list[GeoAnno], img_path: Path) -> Image:\n",
                "    img_np_arr = imageio.imread(img_path)\n",
                "    results = []\n",
                "    for anno in annos:\n",
                "        binary_mask = rasterize_annotations(\n",
                "            img_np_arr.shape[0],\n",
                "            img_np_arr.shape[1],\n",
                "            [anno],\n",
                "            anno_labels=[CLASS_NAMES.index(x.get_class_name()) for x in annos],\n",
                "        )\n",
                "        binary_mask = process_mask(binary_mask)\n",
                "        result = binary_mask_to_result(binary_mask, anno.get_class_name(), brush_name=\"tag\")\n",
                "        results.append(result)\n",
                "    return results\n",
                "\n",
                "res = []\n",
                "\n",
                "for testcase in ds:\n",
                "    img: Image = Image.open(testcase[\"wsi\"])\n",
                "    img = process_image(img)\n",
                "    d = upload_img(mclient, BUCKETNAME, UPLOAD_PREFIX, img, testcase[\"wsi\"].stem)\n",
                "    d[\"annotations\"] = [\n",
                "            {\n",
                "                \"result\": results_from_geojson(testcase[\"annos\"], testcase[\"wsi\"])\n",
                "            }\n",
                "    ]\n",
                "    res.append(d)"
            ]
        },
        {
            "cell_type": "code",
            "execution_count": null,
            "metadata": {},
            "outputs": [],
            "source": [
                "trainval_proj.get_project().import_tasks(res)"
            ]
        },
        {
            "cell_type": "markdown",
            "metadata": {},
            "source": [
                "# Importing unlabeled data"
            ]
        },
        {
            "cell_type": "code",
            "execution_count": null,
            "metadata": {},
            "outputs": [],
            "source": [
                "# import images without annotations\n",
                "res = []\n",
                "for imagepath in datadir.glob(\"*.tif\"):\n",
                "    if not imagepath in list(geojson_paths.values()):\n",
                "        img: Image = Image.open(imagepath)\n",
                "        img = process_image(img)\n",
                "        d = upload_img(mclient, BUCKETNAME, UPLOAD_PREFIX, img, imagepath.stem)\n",
                "        res.append(d)\n",
                "    else:\n",
                "        print(f\"Skipping {imagepath.stem} because it has annotations\")\n",
                "    \n",
                "trainval_proj.get_project().import_tasks(res)"
            ]
        },
        {
            "cell_type": "code",
            "execution_count": null,
            "metadata": {},
            "outputs": [],
            "source": []
        }
    ],
    "metadata": {
        "kernelspec": {
            "display_name": "Python 3",
            "language": "python",
            "name": "python3"
        },
        "language_info": {
            "codemirror_mode": {
                "name": "ipython",
                "version": 3
            },
            "file_extension": ".py",
            "mimetype": "text/x-python",
            "name": "python",
            "nbconvert_exporter": "python",
            "pygments_lexer": "ipython3",
            "version": "3.10.12"
        }
    },
    "nbformat": 4,
    "nbformat_minor": 2
}